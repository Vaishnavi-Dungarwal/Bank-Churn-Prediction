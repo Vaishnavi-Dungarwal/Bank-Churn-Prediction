{
  "nbformat": 4,
  "nbformat_minor": 5,
  "metadata": {
    "kernelspec": {
      "display_name": "Python 3",
      "language": "python",
      "name": "python3"
    },
    "language_info": {
      "codemirror_mode": {
        "name": "ipython",
        "version": 3
      },
      "file_extension": ".py",
      "mimetype": "text/x-python",
      "name": "python",
      "nbconvert_exporter": "python",
      "pygments_lexer": "ipython3",
      "version": "3.8.8"
    },
    "colab": {
      "provenance": []
    }
  },
  "cells": [
    {
      "cell_type": "code",
      "metadata": {
        "id": "db12b230"
      },
      "source": [
        "import pandas as pd\n",
        "from matplotlib import pyplot as plt\n",
        "import numpy as np\n",
        "%matplotlib inline"
      ],
      "id": "db12b230",
      "execution_count": null,
      "outputs": []
    },
    {
      "cell_type": "code",
      "metadata": {
        "id": "3Q1hYop9mNy-"
      },
      "source": [
        "from google.colab import drive\n",
        "drive.mount('/content/drive')"
      ],
      "id": "3Q1hYop9mNy-",
      "execution_count": null,
      "outputs": []
    },
    {
      "cell_type": "code",
      "metadata": {
        "id": "183abaf5"
      },
      "source": [
        "df = pd.read_csv(\"/content/drive/MyDrive/Churn_Modelling.csv\")"
      ],
      "id": "183abaf5",
      "execution_count": null,
      "outputs": []
    },
    {
      "cell_type": "code",
      "metadata": {
        "id": "Xiwb6cufmo0Q"
      },
      "source": [
        "df.head()"
      ],
      "id": "Xiwb6cufmo0Q",
      "execution_count": null,
      "outputs": []
    },
    {
      "cell_type": "code",
      "metadata": {
        "id": "d4aedbe5"
      },
      "source": [
        "df.drop(['CustomerId','RowNumber','Surname'],axis='columns',inplace=True)"
      ],
      "id": "d4aedbe5",
      "execution_count": null,
      "outputs": []
    },
    {
      "cell_type": "code",
      "metadata": {
        "id": "tQkrWMug2Y1o"
      },
      "source": [
        "df.head()"
      ],
      "id": "tQkrWMug2Y1o",
      "execution_count": null,
      "outputs": []
    },
    {
      "cell_type": "code",
      "metadata": {
        "id": "9735f62e"
      },
      "source": [
        "df.dtypes"
      ],
      "id": "9735f62e",
      "execution_count": null,
      "outputs": []
    },
    {
      "cell_type": "code",
      "metadata": {
        "id": "dwEVFRSGnLJi"
      },
      "source": [
        "df.head()"
      ],
      "id": "dwEVFRSGnLJi",
      "execution_count": null,
      "outputs": []
    },
    {
      "cell_type": "code",
      "metadata": {
        "id": "PADzfr9SoKGh"
      },
      "source": [
        "df.nunique()"
      ],
      "id": "PADzfr9SoKGh",
      "execution_count": null,
      "outputs": []
    },
    {
      "cell_type": "code",
      "metadata": {
        "id": "piIWgNTxnVF-"
      },
      "source": [
        "labels = 'Exited(Churned)', 'Retained'\n",
        "sizes = [df.Exited[df['Exited']==1].count(), df.Exited[df['Exited']==0].count()]\n",
        "explode = (0, 0.1)\n",
        "fig1, ax1 = plt.subplots(figsize=(10, 8))\n",
        "ax1.pie(sizes, explode=explode, labels=labels, autopct='%1.1f%%',\n",
        "        shadow=True, startangle=90)\n",
        "ax1.axis('equal')\n",
        "plt.title(\"Proportion of customer churned and retained\", size = 20)\n",
        "plt.show()"
      ],
      "id": "piIWgNTxnVF-",
      "execution_count": null,
      "outputs": []
    },
    {
      "cell_type": "code",
      "metadata": {
        "id": "72i0IxD4oukt"
      },
      "source": [
        "import seaborn as sns"
      ],
      "id": "72i0IxD4oukt",
      "execution_count": null,
      "outputs": []
    },
    {
      "cell_type": "code",
      "metadata": {
        "id": "7b9K_mIrorK9"
      },
      "source": [
        "    # We first review the 'Status' relation with categorical variables\n",
        "    fig, axarr = plt.subplots(2, 2, figsize=(20, 12))\n",
        "    sns.countplot(x='Geography', hue = 'Exited',data = df, ax=axarr[0][0])\n",
        "    sns.countplot(x='Gender', hue = 'Exited',data = df, ax=axarr[0][1])\n",
        "    sns.countplot(x='HasCrCard', hue = 'Exited',data = df, ax=axarr[1][0])\n",
        "    sns.countplot(x='IsActiveMember', hue = 'Exited',data = df, ax=axarr[1][1])"
      ],
      "id": "7b9K_mIrorK9",
      "execution_count": null,
      "outputs": []
    },
    {
      "cell_type": "code",
      "metadata": {
        "id": "zZ880TaMpHCU"
      },
      "source": [
        "# Relations based on the continuous data attributes\n",
        "fig, axarr = plt.subplots(3, 2, figsize=(20, 12))\n",
        "sns.boxplot(y='CreditScore',x = 'Exited', hue = 'Exited',data = df, ax=axarr[0][0])\n",
        "sns.boxplot(y='Age',x = 'Exited', hue = 'Exited',data = df , ax=axarr[0][1])\n",
        "sns.boxplot(y='Tenure',x = 'Exited', hue = 'Exited',data = df, ax=axarr[1][0])\n",
        "sns.boxplot(y='Balance',x = 'Exited', hue = 'Exited',data = df, ax=axarr[1][1])\n",
        "sns.boxplot(y='NumOfProducts',x = 'Exited', hue = 'Exited',data = df, ax=axarr[2][0])\n",
        "sns.boxplot(y='EstimatedSalary',x = 'Exited', hue = 'Exited',data = df, ax=axarr[2][1])"
      ],
      "id": "zZ880TaMpHCU",
      "execution_count": null,
      "outputs": []
    },
    {
      "cell_type": "code",
      "metadata": {
        "id": "cf18eef8"
      },
      "source": [
        "tenure_churn_no = df[df.Exited==0].Tenure\n",
        "tenure_churn_yes = df[df.Exited==1].Tenure\n",
        "\n",
        "plt.xlabel(\"tenure\")\n",
        "plt.ylabel(\"Number Of Customers\")\n",
        "plt.title(\"Customer Churn Prediction Visualiztion\")\n",
        "\n",
        "plt.hist([tenure_churn_yes, tenure_churn_no], rwidth=0.95, color=['red','green'],label=['Churn=Yes','Churn=No'])\n",
        "plt.legend()"
      ],
      "id": "cf18eef8",
      "execution_count": null,
      "outputs": []
    },
    {
      "cell_type": "code",
      "metadata": {
        "id": "GguoygYy1GyR"
      },
      "source": [
        "df['BalanceSalaryRatio'] = df.Balance/df.EstimatedSalary\n",
        "sns.boxplot(y='BalanceSalaryRatio',x = 'Exited', hue = 'Exited',data = df)\n",
        "plt.ylim(-1, 5)"
      ],
      "id": "GguoygYy1GyR",
      "execution_count": null,
      "outputs": []
    },
    {
      "cell_type": "code",
      "metadata": {
        "id": "ATetvw8Z15eG"
      },
      "source": [
        "df['TenureByAge'] = df.Tenure/(df.Age)\n",
        "sns.boxplot(y='TenureByAge',x = 'Exited', hue = 'Exited',data = df)\n",
        "plt.ylim(-1, 1)\n",
        "plt.show()"
      ],
      "id": "ATetvw8Z15eG",
      "execution_count": null,
      "outputs": []
    },
    {
      "cell_type": "code",
      "metadata": {
        "id": "774ea2d7"
      },
      "source": [
        "def print_unique_col_values(df):\n",
        "       for column in df:\n",
        "            if df[column].dtypes=='object':\n",
        "                print(f'{column}: {df[column].unique()}')"
      ],
      "id": "774ea2d7",
      "execution_count": null,
      "outputs": []
    },
    {
      "cell_type": "code",
      "metadata": {
        "id": "26a7af4c"
      },
      "source": [
        "print_unique_col_values(df)"
      ],
      "id": "26a7af4c",
      "execution_count": null,
      "outputs": []
    },
    {
      "cell_type": "code",
      "metadata": {
        "id": "97c7e8ca"
      },
      "source": [
        "df['Gender'].replace({'Male': 1,'Female': 0},inplace=True)"
      ],
      "id": "97c7e8ca",
      "execution_count": null,
      "outputs": []
    },
    {
      "cell_type": "code",
      "metadata": {
        "id": "d5894756"
      },
      "source": [
        "df1 = pd.get_dummies(data=df, columns=['Geography'])\n",
        "df1.head()"
      ],
      "id": "d5894756",
      "execution_count": null,
      "outputs": []
    },
    {
      "cell_type": "code",
      "metadata": {
        "id": "fbe387d7"
      },
      "source": [
        "scale_var = ['Tenure','CreditScore','Age','Balance','NumOfProducts','EstimatedSalary']\n",
        "\n",
        "from sklearn.preprocessing import MinMaxScaler\n",
        "scaler = MinMaxScaler()\n",
        "df1[scale_var] = scaler.fit_transform(df1[scale_var])"
      ],
      "id": "fbe387d7",
      "execution_count": null,
      "outputs": []
    },
    {
      "cell_type": "code",
      "metadata": {
        "id": "901576ee"
      },
      "source": [
        "df1.head()"
      ],
      "id": "901576ee",
      "execution_count": null,
      "outputs": []
    },
    {
      "cell_type": "code",
      "metadata": {
        "id": "a6257db2"
      },
      "source": [
        "X = df1.drop('Exited',axis='columns')  ##independent features\n",
        "y = df1['Exited']  ##dependent feature\n",
        "\n",
        "from sklearn.model_selection import train_test_split\n",
        "X_train, X_test, y_train, y_test = train_test_split(X,y,test_size=0.2,random_state=5)"
      ],
      "id": "a6257db2",
      "execution_count": null,
      "outputs": []
    },
    {
      "cell_type": "code",
      "metadata": {
        "id": "91384418"
      },
      "source": [
        "len(X_train.columns)"
      ],
      "id": "91384418",
      "execution_count": null,
      "outputs": []
    },
    {
      "cell_type": "code",
      "metadata": {
        "id": "1e538df3"
      },
      "source": [
        "import tensorflow as tf\n",
        "from tensorflow import keras\n",
        "\n",
        "\n",
        "model = keras.Sequential([\n",
        "    keras.layers.Dense(12, input_shape=(32,14), activation='relu'),\n",
        "    keras.layers.Dense(6, activation='relu'),\n",
        "    keras.layers.Dense(1, activation='sigmoid')\n",
        "])\n",
        "\n",
        "\n",
        "model.compile(optimizer='adam',\n",
        "              loss='binary_crossentropy',\n",
        "              metrics=['accuracy'])\n",
        "\n",
        "model.fit(X_train, y_train, epochs=100)"
      ],
      "id": "1e538df3",
      "execution_count": null,
      "outputs": []
    },
    {
      "cell_type": "code",
      "metadata": {
        "id": "3bd4bbed"
      },
      "source": [
        "model.evaluate(X_test, y_test)"
      ],
      "id": "3bd4bbed",
      "execution_count": null,
      "outputs": []
    },
    {
      "cell_type": "code",
      "metadata": {
        "id": "346f28cb"
      },
      "source": [
        "yp = model.predict(X_test)\n",
        "yp"
      ],
      "id": "346f28cb",
      "execution_count": null,
      "outputs": []
    },
    {
      "cell_type": "code",
      "metadata": {
        "id": "jJ7pt3vl3ztm"
      },
      "source": [
        "y_pred = []\n",
        "for element in yp:\n",
        "    if element > 0.5:\n",
        "        y_pred.append(1)\n",
        "    else:\n",
        "        y_pred.append(0)"
      ],
      "id": "jJ7pt3vl3ztm",
      "execution_count": null,
      "outputs": []
    },
    {
      "cell_type": "code",
      "metadata": {
        "id": "eNaQFAJN327T"
      },
      "source": [
        "y_pred"
      ],
      "id": "eNaQFAJN327T",
      "execution_count": null,
      "outputs": []
    },
    {
      "cell_type": "code",
      "metadata": {
        "id": "9b5cd195"
      },
      "source": [
        "from sklearn.metrics import confusion_matrix , classification_report\n",
        "\n",
        "print(classification_report(y_test,y_pred))"
      ],
      "id": "9b5cd195",
      "execution_count": null,
      "outputs": []
    },
    {
      "cell_type": "code",
      "metadata": {
        "id": "4e691f5e"
      },
      "source": [
        "import seaborn as sn\n",
        "cm = tf.math.confusion_matrix(labels=y_test,predictions=y_pred)\n",
        "\n",
        "plt.figure(figsize = (10,7))\n",
        "sn.heatmap(cm, annot=True, fmt='d')\n",
        "plt.xlabel('Predicted')\n",
        "plt.ylabel('Truth')"
      ],
      "id": "4e691f5e",
      "execution_count": null,
      "outputs": []
    },
    {
      "cell_type": "code",
      "metadata": {
        "id": "658325ee"
      },
      "source": [
        "from sklearn.metrics import accuracy_score"
      ],
      "id": "658325ee",
      "execution_count": null,
      "outputs": []
    },
    {
      "cell_type": "code",
      "metadata": {
        "id": "wANHz4L74f4N"
      },
      "source": [
        "print(\"Accuracy score is: \", accuracy_score(y_test,y_pred)*100,\"%\")"
      ],
      "id": "wANHz4L74f4N",
      "execution_count": null,
      "outputs": []
    },
    {
      "cell_type": "code",
      "metadata": {
        "id": "5CQbjRWT4oRL"
      },
      "source": [
        "!pip install requests\n",
        "!pip install tabulate\n",
        "!pip install \"colorama>=0.3.8\"\n",
        "!pip install future"
      ],
      "id": "5CQbjRWT4oRL",
      "execution_count": null,
      "outputs": []
    },
    {
      "cell_type": "code",
      "metadata": {
        "id": "nKOF0m6v5Uqy"
      },
      "source": [
        "!pip install h2o"
      ],
      "id": "nKOF0m6v5Uqy",
      "execution_count": null,
      "outputs": []
    },
    {
      "cell_type": "code",
      "metadata": {
        "id": "sey3H2CF5aTp"
      },
      "source": [
        "import h2o\n",
        "from h2o.automl import H2OAutoML\n",
        "h2o.init(max_mem_size='16G')  ##  the h2o.init() makes sure that no prior instance of H2O is running."
      ],
      "id": "sey3H2CF5aTp",
      "execution_count": null,
      "outputs": []
    },
    {
      "cell_type": "code",
      "metadata": {
        "id": "m34UT5ej5wl-"
      },
      "source": [
        "df = h2o.import_file(\"/content/drive/MyDrive/Churn_Modelling.csv\")"
      ],
      "id": "m34UT5ej5wl-",
      "execution_count": null,
      "outputs": []
    },
    {
      "cell_type": "code",
      "metadata": {
        "id": "Gmodc0gJ6M9y"
      },
      "source": [
        "df.head()"
      ],
      "id": "Gmodc0gJ6M9y",
      "execution_count": null,
      "outputs": []
    },
    {
      "cell_type": "code",
      "metadata": {
        "id": "e22RmkS56PE1"
      },
      "source": [
        "df_train,df_test= df.split_frame(ratios=[.8])"
      ],
      "id": "e22RmkS56PE1",
      "execution_count": null,
      "outputs": []
    },
    {
      "cell_type": "code",
      "metadata": {
        "id": "FWSaqyYq8QGY"
      },
      "source": [
        "df_train"
      ],
      "id": "FWSaqyYq8QGY",
      "execution_count": null,
      "outputs": []
    },
    {
      "cell_type": "code",
      "metadata": {
        "id": "S_40w_OB9hPU"
      },
      "source": [
        "y = \"Exited\"  ## dependent variable\n",
        "x = df.columns  ## Independent variable\n",
        "x.remove(y)\n",
        "x.remove('CustomerId')\n",
        "x.remove('RowNumber')\n",
        "x.remove('Surname')"
      ],
      "id": "S_40w_OB9hPU",
      "execution_count": null,
      "outputs": []
    },
    {
      "cell_type": "code",
      "metadata": {
        "id": "yqDUhVtp9xrW"
      },
      "source": [
        "aml = H2OAutoML(max_runtime_secs=300,max_models = 10, seed = 10, verbosity=\"info\", nfolds=2)"
      ],
      "id": "yqDUhVtp9xrW",
      "execution_count": null,
      "outputs": []
    },
    {
      "cell_type": "code",
      "metadata": {
        "id": "nRE7PN8h-Y_V"
      },
      "source": [
        "aml.train(x=x,y=y, training_frame=df_train)"
      ],
      "id": "nRE7PN8h-Y_V",
      "execution_count": null,
      "outputs": []
    },
    {
      "cell_type": "code",
      "metadata": {
        "id": "Qabq0iz--lm7"
      },
      "source": [
        "lb = aml.leaderboard"
      ],
      "id": "Qabq0iz--lm7",
      "execution_count": null,
      "outputs": []
    },
    {
      "cell_type": "code",
      "metadata": {
        "id": "wqrsBnGk_o8-"
      },
      "source": [
        "lb"
      ],
      "id": "wqrsBnGk_o8-",
      "execution_count": null,
      "outputs": []
    },
    {
      "cell_type": "code",
      "metadata": {
        "id": "SeaIF7yRzODW"
      },
      "source": [
        "model_ids = list(aml.leaderboard['model_id'].as_data_frame().iloc[:,0])"
      ],
      "id": "SeaIF7yRzODW",
      "execution_count": null,
      "outputs": []
    },
    {
      "cell_type": "code",
      "metadata": {
        "id": "rhM8JNZGzVJb"
      },
      "source": [
        "model_ids"
      ],
      "id": "rhM8JNZGzVJb",
      "execution_count": null,
      "outputs": []
    },
    {
      "cell_type": "code",
      "metadata": {
        "id": "AAb4JcCU0GPP"
      },
      "source": [
        "aml.leader.model_performance(df_test)"
      ],
      "id": "AAb4JcCU0GPP",
      "execution_count": null,
      "outputs": []
    },
    {
      "cell_type": "code",
      "metadata": {
        "id": "Pfj8vY3P0c09"
      },
      "source": [
        "h2o.get_model([mid for mid in model_ids if \"StackedEnsemble\" in mid][0])"
      ],
      "id": "Pfj8vY3P0c09",
      "execution_count": null,
      "outputs": []
    },
    {
      "cell_type": "code",
      "metadata": {
        "id": "GptGBNNH09lb"
      },
      "source": [
        "output= h2o.get_model([mid for mid in model_ids if \"StackedEnsemble\" in mid][0])\n",
        "output.params"
      ],
      "id": "GptGBNNH09lb",
      "execution_count": null,
      "outputs": []
    },
    {
      "cell_type": "code",
      "metadata": {
        "id": "eD-jCOer1Lt8"
      },
      "source": [
        "#output.varimp_plot()"
      ],
      "id": "eD-jCOer1Lt8",
      "execution_count": null,
      "outputs": []
    },
    {
      "cell_type": "code",
      "metadata": {
        "id": "zh0MidA-1_mn"
      },
      "source": [
        "aml.leader"
      ],
      "id": "zh0MidA-1_mn",
      "execution_count": null,
      "outputs": []
    },
    {
      "cell_type": "code",
      "metadata": {
        "id": "bvargcqp_pxe"
      },
      "source": [
        "y_pred=aml.leader.predict(df_test)"
      ],
      "id": "bvargcqp_pxe",
      "execution_count": null,
      "outputs": []
    },
    {
      "cell_type": "code",
      "metadata": {
        "id": "FhtqAVnuAA1e"
      },
      "source": [
        "y_pred"
      ],
      "id": "FhtqAVnuAA1e",
      "execution_count": null,
      "outputs": []
    },
    {
      "cell_type": "code",
      "metadata": {
        "id": "G4tm2_iw2WFS"
      },
      "source": [],
      "id": "G4tm2_iw2WFS",
      "execution_count": null,
      "outputs": []
    }
  ]
}